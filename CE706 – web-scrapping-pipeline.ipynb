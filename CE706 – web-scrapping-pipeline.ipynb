{
 "cells": [
  {
   "cell_type": "markdown",
   "metadata": {
    "_uuid": "b76fa351b7a785825e8348aecf46998a69535f43"
   },
   "source": [
    "links: http://www.ardendertat.com/2011/07/17/how-to-implement-a-search-engine-part-3-ranking-tf-idf/\n",
    "\n",
    "https://stevenloria.com/tf-idf/\n",
    "\n",
    "\n",
    "http://aimotion.blogspot.com/2011/12/machine-learning-with-python-meeting-tf.html"
   ]
  },
  {
   "cell_type": "markdown",
   "metadata": {
    "_uuid": "2c1e7b8ff6afa76d686bef45c4f4149cd40d85e2"
   },
   "source": [
    "**The Task**\n",
    "\n",
    "* Your task is to apply your IR skills to build a processing pipeline that turns a Web site into structured knowledge\n",
    "(thus enhancing your chances of getting the job outlined above). Your system should take HTML pages as input, hts://careers.microsoft.com/us/en/job/580012/Software-Engineer process them using the kind of techniques that we have been looking at in the module, and output an index of\n",
    "terms identified in the documents\n"
   ]
  },
  {
   "cell_type": "markdown",
   "metadata": {
    "_uuid": "ab10c65fe613f583996ac7617876958363fd8430"
   },
   "source": [
    "• Engineering a Complete System (10%) The system you develop must be able to read Web pages\n",
    "from a specified set of URLs and produce appropriately formatted output. The Web pages should be\n",
    "processed one at a time using the steps outlined below. The final system should have control over all the\n",
    "individual components so that there is a single call and all the steps outlined below will be performed.\n",
    "\n",
    "• HTML Parsing (10%) Before the text can be analyzed it is necessary to get rid of the HTML tags.\n",
    "The result will be plain text. Note that if you simply delete all HTML tags, you will lose information\n",
    "such as meta tag keywords. Use an appropriate tool to perform this task.\n",
    "\n",
    "• Pre-processing: Sentence Splitting, Tokenization and Normalization (10%) The next step\n",
    "should be to transform the input text into a normal form of your choice.\n",
    "\n",
    "• Part-of-Speech Tagging (10%) The input should be tagged with a suitable part-of-speech tagger, so\n",
    "that the result can then be processed in the next steps.\n",
    "\n",
    "• Selecting Keywords and Phrases (20%) One aim of your system is to identify the words and phrases\n",
    "in the text that are most useful for indexing purposes. Your system should remove words which are not\n",
    "useful, such as very frequent words or stopwords, and identify phrases suitable as index terms. Apply\n",
    "tf.idf as part of your selection and weighting step.\n",
    "\n",
    "• Entity and Relation Extraction (20%) Apply a named-entity-recogniser (NER tagger) to your text\n",
    "to identify entities. Extract at least person names, locations and organisations. For additional marks also\n",
    "identify relations that hold between these entities."
   ]
  },
  {
   "cell_type": "code",
   "execution_count": 12,
   "metadata": {
    "_uuid": "27fe32baf07f35d2da024650d4ed0ade61fd3ea4"
   },
   "outputs": [],
   "source": [
    "#import libraries\n",
    "import urllib.request\n",
    "from bs4 import BeautifulSoup, SoupStrainer\n",
    "import pandas as pd\n",
    "import numpy as np\n",
    "import matplotlib.pyplot as plt\n",
    "%matplotlib inline\n",
    "from sklearn.feature_extraction.text import TfidfVectorizer, CountVectorizer, TfidfTransformer\n",
    "import nltk\n",
    "from nltk.tokenize import word_tokenize, sent_tokenize\n",
    "from nltk.tag import pos_tag\n",
    "import requests\n",
    "import json\n",
    "import re\n",
    "from nltk.probability import FreqDist\n",
    "from nltk.corpus import stopwords\n",
    "from nltk import conlltags2tree, tree2conlltags\n",
    "from nltk import word_tokenize, pos_tag, ne_chunk\n",
    "from nltk.tree import Tree\n",
    "from nltk.tokenize.toktok import ToktokTokenizer\n",
    "import math\n",
    "from textblob import TextBlob as tb\n",
    "import httplib2\n",
    "from nltk.stem.porter import PorterStemmer\n",
    "from nltk.stem import LancasterStemmer\n",
    "from nltk.stem import WordNetLemmatizer\n",
    "import warnings\n",
    "warnings.filterwarnings('ignore')"
   ]
  },
  {
   "cell_type": "code",
   "execution_count": 13,
   "metadata": {
    "_uuid": "93d78093e28de6124308f5ca136b10310203ad5c"
   },
   "outputs": [],
   "source": [
    "#______________links in Page, code changes starts____________________# \n",
    "def get_links(url):\n",
    "    #read the url\n",
    "    resp = urllib.request.urlopen(url)\n",
    "    soup = BeautifulSoup(resp, from_encoding=resp.info().get_param('charset'))\n",
    "    links =[]\n",
    "    for link in soup.find_all('a', href=True):\n",
    "        links.append(link['href'])\n",
    "    #return all links present in that url\n",
    "    return links\n",
    "#______________links in Page, code changes End____________________# \n",
    "\n",
    "\n",
    "#_____________HTML Parsing, code changes starts____________________# \n",
    "def url_to_string(url):\n",
    "    res = requests.get(url)\n",
    "    html = res.text\n",
    "    soup = BeautifulSoup(html, 'html5lib')\n",
    "    for script in soup([\"script\", \"style\", 'aside']):\n",
    "        script.extract()\n",
    "    return \" \".join(re.split(r'[\\n\\t]+', soup.get_text()))\n",
    "#_____________HTML Parsing, code changes END____________________# \n",
    "\n",
    "\n",
    "#_____________Extracting nouns, noun forms in document, code changes start__________#\n",
    "def extract_noun_forms(data): \n",
    "    nouns_list = []\n",
    "    sentences = sent_tokenize(data)\n",
    "    for sent in sentences:\n",
    "        #' '.join((e for e in sent if e.isalnum())\n",
    "        tokens = nltk.word_tokenize(sent)\n",
    "        tagged = nltk.pos_tag(tokens)    #Part-of-Speech Tagging'\n",
    "        nouns = [word for word, pos in tagged if (pos == 'NN' or pos == 'NNP' or pos == 'NNS' or pos == 'NNPS')]\n",
    "        nouns_list.append(nouns)\n",
    "    nouns_list = [x for sublist in nouns_list for x in sublist]\n",
    "    return nouns_list\n",
    "#_____________Extracting nouns in document, code changes END__________#\n",
    "\n",
    "\n",
    "#_____________Entity and Relation Extraction, code changes starts____________________#\n",
    "# i-o-b tagging, places, organisations, Names, Landmarks tagging\n",
    "def get_continuous_chunks(text):\n",
    "    chunked = ne_chunk(pos_tag(word_tokenize(text)))\n",
    "    continuous_chunk = []\n",
    "    current_chunk = []\n",
    "    for i in chunked:\n",
    "        if type(i) == Tree:\n",
    "            current_chunk.append(\" \".join([token for token, pos in i.leaves()]))\n",
    "        elif current_chunk:\n",
    "            named_entity = \" \".join(current_chunk)\n",
    "            if named_entity not in continuous_chunk:\n",
    "                continuous_chunk.append(named_entity)\n",
    "                current_chunk = []\n",
    "        else:\n",
    "            continue\n",
    "    return continuous_chunk\n",
    "#_____________Entity and Relation Extraction, code changes End____________________#\n",
    "\n",
    "\n",
    "#________________Text pre-processing code changes starts_______________#\n",
    "stop_words=set(stopwords.words(\"english\"))  \n",
    "tokenizer = ToktokTokenizer()\n",
    "stopword_list = nltk.corpus.stopwords.words('english')\n",
    "pattern = r'[^a-zA-z0-9\\s]' #include digits  #r'[^a-zA-z\\s]' remove digits also\n",
    "porter = PorterStemmer()\n",
    "lancaster = LancasterStemmer()\n",
    "\n",
    "#Pre-processing: Sentence Splitting, Tokenization and Normalization \n",
    "def pre_process(text):\n",
    "    text = re.sub(pattern, '', text)\n",
    "    tokens = tokenizer.tokenize(text)\n",
    "    tokens = [token.strip() for token in tokens]\n",
    "    filtered_tokens = [token.lower() for token in tokens if token.lower() not in stopword_list]\n",
    "    filtered_tokens = [lancaster.stem(word) for word in filtered_tokens]\n",
    "    filtered_text = ' '.join(filtered_tokens)    \n",
    "    return filtered_text\n",
    "#_______________Text pre-processing code changes end_____________#\n",
    "\n",
    "\n",
    "#______________Saving Files, code changes start_____________#\n",
    "def save_text_file(filename, data):\n",
    "    with open(filename, 'w') as f:\n",
    "        for item in data:\n",
    "            f.write(\"%s\\n\" % item)\n",
    "            \n",
    "def save_json(filename, data):\n",
    "    with open(filename, 'w') as fp:\n",
    "        json.dump(data, fp)\n",
    "#_____________Saving File, code changes End_____________#\n",
    "\n",
    "\n",
    "\n",
    "#____________TF-IDF Updated Code changes start___________________#\n",
    "def sort_coo(coo_matrix):\n",
    "    tuples = zip(coo_matrix.col, coo_matrix.data)\n",
    "    return sorted(tuples, key=lambda x: (x[1], x[0]), reverse=True)\n",
    "\n",
    "def extract_topn_from_vector(feature_names, sorted_items, topn):\n",
    "    #get the feature names and tf-idf score of top n items\n",
    "    #use only topn items from vector\n",
    "    sorted_items = sorted_items[:topn]\n",
    "    score_vals = []\n",
    "    feature_vals = []\n",
    "    \n",
    "    # word index and corresponding tf-idf score\n",
    "    for idx, score in sorted_items:\n",
    "        \n",
    "        #keep track of feature name and its corresponding score\n",
    "        score_vals.append(round(score, 3))\n",
    "        feature_vals.append(feature_names[idx])\n",
    "    #create a tuples of feature,score\n",
    "    #results = zip(feature_vals,score_vals)\n",
    "    results= {}\n",
    "    for idx in range(len(feature_vals)):\n",
    "        results[feature_vals[idx]]=score_vals[idx]\n",
    "    return results       \n",
    "\n",
    "def get_tf_idf(doc, corpus, num):\n",
    "    cv=CountVectorizer(max_df=0.85, stop_words=stop_words)\n",
    "    word_count_vector=cv.fit_transform(corpus)\n",
    "    \n",
    "    #TfidfTransformer to Compute Inverse Document Frequency (IDF)\n",
    "    tfidf_transformer=TfidfTransformer(smooth_idf=True,use_idf=True)\n",
    "    tfidf_transformer.fit(word_count_vector)\n",
    "    \n",
    "    feature_names= cv.get_feature_names()\n",
    "    #generate tf-idf for the given document\n",
    "    tf_idf_vector=tfidf_transformer.transform(cv.transform([doc]))\n",
    "     #sort the tf-idf vectors by descending order of scores\n",
    "    sorted_items=sort_coo(tf_idf_vector.tocoo())\n",
    "     #extract only the top n;\n",
    "    keywords=extract_topn_from_vector(feature_names,sorted_items,num)\n",
    "    return keywords\n",
    "#____________________TF IDF updated Code changes end_________________#\n"
   ]
  },
  {
   "cell_type": "code",
   "execution_count": 14,
   "metadata": {
    "_uuid": "bcf4a12c26b72f4b5c8cfc36639ef493fb9e6522"
   },
   "outputs": [],
   "source": [
    "url1 = \"https://csee.essex.ac.uk/staff/udo/index.html\"\n",
    "url2 = \"https://www.essex.ac.uk/departments/computer-science-and-electronic-engineering\"\n",
    "\n",
    "urls = [url1, url2]\n",
    "\n",
    "data = []\n",
    "#HTML Parsing and saving all the text in data\n",
    "for i, url in enumerate(urls):\n",
    "    filename =\"html_parsed_doc_\" + str(i+1)\n",
    "    text = url_to_string(url)\n",
    "    save_text_file(filename, text)\n",
    "    data.append(text)"
   ]
  },
  {
   "cell_type": "code",
   "execution_count": 15,
   "metadata": {
    "_uuid": "cd62fea619eb723737b49af6db651e56902e51f9"
   },
   "outputs": [],
   "source": [
    "#saving all the links present in each document\n",
    "for i,url in enumerate(urls):\n",
    "    filename =\"links_in_doc_\" + str(i+1)\n",
    "    text = get_links(url)\n",
    "    save_text_file(filename, text)"
   ]
  },
  {
   "cell_type": "code",
   "execution_count": 16,
   "metadata": {
    "_uuid": "472d8e6ce22b704a1cb5a692f1d43f084f25bbf2"
   },
   "outputs": [],
   "source": [
    "#saving all the Named Entities present in each document\n",
    "for i,dat in enumerate(data):\n",
    "    filename =\"Named_Entities_in_doc_\" + str(i+1)\n",
    "    text = get_continuous_chunks(dat)\n",
    "    save_text_file(filename, text)"
   ]
  },
  {
   "cell_type": "code",
   "execution_count": 17,
   "metadata": {
    "_uuid": "0db092cd52c43c9a1325f33379ead9673242cf42"
   },
   "outputs": [],
   "source": [
    "#saving all the Nouns and noun forms present in each document\n",
    "for i, dat in enumerate(data):\n",
    "    filename =\"Noun_and_noun_forms_in_doc_\" + str(i+1)\n",
    "    text = extract_noun_forms(dat)\n",
    "    save_text_file(filename, text)"
   ]
  },
  {
   "cell_type": "code",
   "execution_count": 18,
   "metadata": {
    "_uuid": "2674d1373a287816e5452ce3aeac5cfd40fb804e"
   },
   "outputs": [],
   "source": [
    "#Extracting corpus for calculating tf-idf scores\n",
    "corpus =[]\n",
    "for dat in data:\n",
    "    corpus.append(pre_process(dat))\n",
    "    \n",
    "#saving all the TF-IDF scores in each document\n",
    "for i, dat in enumerate(corpus):\n",
    "    keywords = get_tf_idf(dat, corpus, num=20)\n",
    "    filename = \"tf_idf_scores_in_doc_\" + str(i+1) + \".json\"\n",
    "    save_json(filename, keywords)  "
   ]
  },
  {
   "cell_type": "code",
   "execution_count": 10,
   "metadata": {
    "_uuid": "981768b40230d50292df7e2d6dc50f1d30e14fd5"
   },
   "outputs": [],
   "source": [
    "#fdist = FreqDist(nouns_list)\n",
    "#fdist.most_common(10)"
   ]
  },
  {
   "cell_type": "code",
   "execution_count": 11,
   "metadata": {
    "_uuid": "8426c3a77bbbe6d72a7971caf359d7c46209656b"
   },
   "outputs": [],
   "source": [
    "#fdist.plot(30,cumulative=False)\n",
    "#plt.show()"
   ]
  },
  {
   "cell_type": "code",
   "execution_count": 10,
   "metadata": {
    "_uuid": "7ef97ff88e719e6c825a83e452ebfe7842ef1d25"
   },
   "outputs": [],
   "source": []
  },
  {
   "cell_type": "code",
   "execution_count": 10,
   "metadata": {
    "_uuid": "0d53a7a7018f9d4ee2c5b892c10b2ea76b402ef4"
   },
   "outputs": [],
   "source": []
  },
  {
   "cell_type": "code",
   "execution_count": 10,
   "metadata": {
    "_uuid": "0403d26bbd0ec20fd52b41898641f8d086e6fe94"
   },
   "outputs": [],
   "source": []
  },
  {
   "cell_type": "code",
   "execution_count": 10,
   "metadata": {
    "_uuid": "5de1c79adb1682f2096a16fdb96277c7d26db0d4"
   },
   "outputs": [],
   "source": []
  },
  {
   "cell_type": "code",
   "execution_count": 10,
   "metadata": {
    "_uuid": "8c22dcfbfa5f2202369f6afbf8293235e9f3f9f2"
   },
   "outputs": [],
   "source": []
  },
  {
   "cell_type": "code",
   "execution_count": 10,
   "metadata": {
    "_uuid": "3a392a268a32ba4dcf2af2135fba525e82bca9c1"
   },
   "outputs": [],
   "source": []
  },
  {
   "cell_type": "code",
   "execution_count": 10,
   "metadata": {
    "_uuid": "ec5454f8baef2c6f335d9cf6010940bdac57580c"
   },
   "outputs": [],
   "source": []
  }
 ],
 "metadata": {
  "kernelspec": {
   "display_name": "Python 3",
   "language": "python",
   "name": "python3"
  },
  "language_info": {
   "codemirror_mode": {
    "name": "ipython",
    "version": 3
   },
   "file_extension": ".py",
   "mimetype": "text/x-python",
   "name": "python",
   "nbconvert_exporter": "python",
   "pygments_lexer": "ipython3",
   "version": "3.6.0"
  }
 },
 "nbformat": 4,
 "nbformat_minor": 1
}
